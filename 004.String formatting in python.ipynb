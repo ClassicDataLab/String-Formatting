{
 "cells": [
  {
   "cell_type": "markdown",
   "metadata": {},
   "source": [
    "# String formatting"
   ]
  },
  {
   "cell_type": "markdown",
   "metadata": {},
   "source": [
    "String formatting (interpolation) refers to the process of inserting a customed string in a predefined text. \n",
    "\n",
    "Methods\n",
    "\n",
    "1. Positional formating\n",
    "2. String literals"
   ]
  },
  {
   "cell_type": "markdown",
   "metadata": {},
   "source": [
    "### Positional formatting ( .format()  Method)"
   ]
  },
  {
   "cell_type": "code",
   "execution_count": 1,
   "metadata": {},
   "outputs": [
    {
     "data": {
      "text/plain": [
       "'Kelly made a sale of 155000 ghs whilst Tony made a sale of 215000 ghs'"
      ]
     },
     "execution_count": 1,
     "metadata": {},
     "output_type": "execute_result"
    }
   ],
   "source": [
    "'Kelly made a sale of 155000 ghs whilst Tony made a sale of 215000 ghs'"
   ]
  },
  {
   "cell_type": "code",
   "execution_count": null,
   "metadata": {},
   "outputs": [],
   "source": []
  },
  {
   "cell_type": "code",
   "execution_count": 2,
   "metadata": {},
   "outputs": [],
   "source": [
    "sales_info  = '{} made a sale of {} whilst {} made a sale of {}'"
   ]
  },
  {
   "cell_type": "code",
   "execution_count": 3,
   "metadata": {},
   "outputs": [
    {
     "name": "stdout",
     "output_type": "stream",
     "text": [
      "Kelly made a sale of 155000 whilst Tony made a sale of 215000\n"
     ]
    }
   ],
   "source": [
    "print(sales_info.format('Kelly','155000','Tony','215000'))"
   ]
  },
  {
   "cell_type": "code",
   "execution_count": null,
   "metadata": {},
   "outputs": [],
   "source": []
  },
  {
   "cell_type": "code",
   "execution_count": 4,
   "metadata": {},
   "outputs": [
    {
     "data": {
      "text/plain": [
       "'Kelly made a sale of 155000 whilst Tony made a sale of 215000'"
      ]
     },
     "execution_count": 4,
     "metadata": {},
     "output_type": "execute_result"
    }
   ],
   "source": [
    "'{} made a sale of {} whilst {} made a sale of {}'.format('Kelly','155000','Tony','215000')"
   ]
  },
  {
   "cell_type": "code",
   "execution_count": 5,
   "metadata": {},
   "outputs": [
    {
     "name": "stdout",
     "output_type": "stream",
     "text": [
      "Tony made a sale of 155000 whilst Kelly made a sale of 215000\n"
     ]
    }
   ],
   "source": [
    "print('{} made a sale of {} whilst {} made a sale of {}'.format('Tony','155000','Kelly','215000'))"
   ]
  },
  {
   "cell_type": "markdown",
   "metadata": {},
   "source": [
    "### Named  placeholders"
   ]
  },
  {
   "cell_type": "code",
   "execution_count": 7,
   "metadata": {},
   "outputs": [
    {
     "name": "stdout",
     "output_type": "stream",
     "text": [
      "Kofi made a sale of 23000\n"
     ]
    }
   ],
   "source": [
    "name = 'Kofi'\n",
    "amount = 23000\n",
    "print('{sales_person} made a sale of {sales_value}'.format(sales_value=amount, sales_person=name))"
   ]
  },
  {
   "cell_type": "code",
   "execution_count": 8,
   "metadata": {},
   "outputs": [
    {
     "name": "stdout",
     "output_type": "stream",
     "text": [
      "Kelly made a sale of 155000\n"
     ]
    }
   ],
   "source": [
    "# Named placeholders with dictionaries\n",
    "sales_data = {'Kelly':155000,'Tony':215000}\n",
    "\n",
    "print('Kelly made a sale of {data[Kelly]}'.format(data = sales_data))\n"
   ]
  },
  {
   "cell_type": "code",
   "execution_count": 10,
   "metadata": {},
   "outputs": [
    {
     "name": "stdout",
     "output_type": "stream",
     "text": [
      "Kwame made a sale of 23700\n"
     ]
    }
   ],
   "source": [
    "# Named placeholders with index\n",
    "name = 'Kwame'\n",
    "amount = 23700\n",
    "print('{1} made a sale of {0}'.format(amount,name))"
   ]
  },
  {
   "cell_type": "markdown",
   "metadata": {},
   "source": [
    "### Format specifiers\n",
    "\n",
    "f = floats\n",
    "\n",
    "d = digits\n",
    "\n",
    "e = scientific notation"
   ]
  },
  {
   "cell_type": "code",
   "execution_count": 13,
   "metadata": {},
   "outputs": [
    {
     "name": "stdout",
     "output_type": "stream",
     "text": [
      "I believe that about 78.567233% of data produced by most companies are not analyzed\n"
     ]
    }
   ],
   "source": [
    "print('I believe that about {:f}% of data produced by most companies are not analyzed'.format(78.56723345))"
   ]
  },
  {
   "cell_type": "code",
   "execution_count": 14,
   "metadata": {},
   "outputs": [
    {
     "name": "stdout",
     "output_type": "stream",
     "text": [
      "I believe that about 78.6% of data produced by most companies are not analyzed\n"
     ]
    }
   ],
   "source": [
    "print('I believe that about {:.1f}% of data produced by most companies are not analyzed'.format(78.5672))"
   ]
  },
  {
   "cell_type": "code",
   "execution_count": 15,
   "metadata": {},
   "outputs": [
    {
     "name": "stdout",
     "output_type": "stream",
     "text": [
      "I believe about 78.57% of data produced by most companies are not analyzed\n"
     ]
    }
   ],
   "source": [
    "print('I believe about {:.2f}% of data produced by most companies are not analyzed'.format(78.5672))"
   ]
  },
  {
   "cell_type": "code",
   "execution_count": 16,
   "metadata": {},
   "outputs": [
    {
     "name": "stdout",
     "output_type": "stream",
     "text": [
      "Total: $29.50, Tip: $5.90\n"
     ]
    }
   ],
   "source": [
    "bill = 23.60\n",
    "tip = 23.60*.25\n",
    "total = bill+tip\n",
    "print('Total: ${1:.2f}, Tip: ${0:.2f}'.format(tip,total))"
   ]
  },
  {
   "cell_type": "code",
   "execution_count": null,
   "metadata": {},
   "outputs": [],
   "source": []
  },
  {
   "cell_type": "code",
   "execution_count": 17,
   "metadata": {},
   "outputs": [
    {
     "name": "stdout",
     "output_type": "stream",
     "text": [
      "I believe about 7.856720e+01% of data produced by most companies are not analyzed\n"
     ]
    }
   ],
   "source": [
    "# scientifice notations\n",
    "\n",
    "print('I believe about {:e}% of data produced by most companies are not analyzed'.format(78.5672))"
   ]
  },
  {
   "cell_type": "code",
   "execution_count": 19,
   "metadata": {},
   "outputs": [
    {
     "name": "stdout",
     "output_type": "stream",
     "text": [
      "I made a sales of 300,000 ghs\n"
     ]
    }
   ],
   "source": [
    "# digits\n",
    "\n",
    "print('I made a sales of {:,d} ghs'.format(300000))"
   ]
  },
  {
   "cell_type": "markdown",
   "metadata": {},
   "source": [
    "## Formatted string literal (f-strings)"
   ]
  },
  {
   "cell_type": "code",
   "execution_count": 20,
   "metadata": {},
   "outputs": [
    {
     "name": "stdout",
     "output_type": "stream",
     "text": [
      "I hear and I forget, I see and I know , I do and I understand\n"
     ]
    }
   ],
   "source": [
    "first = 'forget'\n",
    "second= 'know' \n",
    "third = 'understand' \n",
    "\n",
    "print(f'I hear and I {first}, I see and I {second} , I do and I {third }')"
   ]
  },
  {
   "cell_type": "code",
   "execution_count": 22,
   "metadata": {},
   "outputs": [
    {
     "name": "stdout",
     "output_type": "stream",
     "text": [
      "I believe about 78.6% of data produced by most companies are not analyzed\n"
     ]
    }
   ],
   "source": [
    "# specifiers\n",
    "value = 78.56723345\n",
    "print(f'I believe about {value:.1f}% of data produced by most companies are not analyzed')"
   ]
  },
  {
   "cell_type": "code",
   "execution_count": null,
   "metadata": {},
   "outputs": [],
   "source": []
  },
  {
   "cell_type": "code",
   "execution_count": 24,
   "metadata": {},
   "outputs": [
    {
     "name": "stdout",
     "output_type": "stream",
     "text": [
      "Kelly made a sale of 1554500 and Tony made a sale of 235000 making a total of 1789500\n"
     ]
    }
   ],
   "source": [
    "# Expressions in string literals\n",
    "\n",
    "kelly_sales = 1554500\n",
    "tony_sales = 235000\n",
    "print(f'Kelly made a sale of {kelly_sales} and Tony made a sale of {tony_sales} making a total of {kelly_sales+tony_sales}')"
   ]
  },
  {
   "cell_type": "code",
   "execution_count": 25,
   "metadata": {},
   "outputs": [],
   "source": [
    "import numpy as np"
   ]
  },
  {
   "cell_type": "code",
   "execution_count": 26,
   "metadata": {},
   "outputs": [
    {
     "name": "stdout",
     "output_type": "stream",
     "text": [
      "The average sales of Kelly and Tony is 195000.0\n"
     ]
    }
   ],
   "source": [
    "# functions in string literals\n",
    "sales_data=[235000,155000]\n",
    "print(f'The average sales of Kelly and Tony is {np.mean(sales_data)}')"
   ]
  },
  {
   "cell_type": "code",
   "execution_count": null,
   "metadata": {},
   "outputs": [],
   "source": []
  },
  {
   "cell_type": "markdown",
   "metadata": {},
   "source": [
    "# Take away"
   ]
  },
  {
   "cell_type": "code",
   "execution_count": null,
   "metadata": {},
   "outputs": [],
   "source": []
  },
  {
   "cell_type": "markdown",
   "metadata": {},
   "source": [
    "## Input and output"
   ]
  },
  {
   "cell_type": "code",
   "execution_count": 27,
   "metadata": {},
   "outputs": [
    {
     "name": "stdout",
     "output_type": "stream",
     "text": [
      "Enter your name:Kofi\n"
     ]
    },
    {
     "data": {
      "text/plain": [
       "'Kofi'"
      ]
     },
     "execution_count": 27,
     "metadata": {},
     "output_type": "execute_result"
    }
   ],
   "source": [
    "input('Enter your name:')"
   ]
  },
  {
   "cell_type": "code",
   "execution_count": 28,
   "metadata": {},
   "outputs": [
    {
     "name": "stdout",
     "output_type": "stream",
     "text": [
      "Student  Name:Rejoice\n",
      "Rejoice is a nice name!\n"
     ]
    }
   ],
   "source": [
    "name = input('Student  Name:')\n",
    "\n",
    "print('{} is a nice name!'.format(name))"
   ]
  },
  {
   "cell_type": "markdown",
   "metadata": {},
   "source": [
    "### numbers and the input function"
   ]
  },
  {
   "cell_type": "code",
   "execution_count": null,
   "metadata": {},
   "outputs": [],
   "source": [
    "float()\n",
    "int()"
   ]
  },
  {
   "cell_type": "code",
   "execution_count": null,
   "metadata": {},
   "outputs": [],
   "source": [
    "input(\"Enter your height in meters  \")"
   ]
  },
  {
   "cell_type": "code",
   "execution_count": 30,
   "metadata": {
    "scrolled": true
   },
   "outputs": [
    {
     "name": "stdout",
     "output_type": "stream",
     "text": [
      "Enter your height in meters  1.9\n",
      "Enter your weight in kg  80\n",
      "Your hieght is 1.9 meters and your weight is 80.0 kg therefore your bmi is 22.16\n"
     ]
    }
   ],
   "source": [
    "# wrap it with the float function\n",
    "height = float(input(\"Enter your height in meters  \"))\n",
    "\n",
    "weight = float(input(\"Enter your weight in kg  \"))\n",
    "bmi = weight/height**2\n",
    "print('Your hieght is {} meters and your weight is {} kg therefore your bmi is {:.2f}'.format(height,weight,bmi))"
   ]
  },
  {
   "cell_type": "markdown",
   "metadata": {},
   "source": [
    "# eval()\n",
    "The eval() function is used evaluates expressions."
   ]
  },
  {
   "cell_type": "code",
   "execution_count": 32,
   "metadata": {},
   "outputs": [
    {
     "name": "stdout",
     "output_type": "stream",
     "text": [
      "Enter an expression: ((23%4)*30-14)**3\n",
      "438976\n"
     ]
    }
   ],
   "source": [
    "#Eg\n",
    "# Evaluate ((23%4)*30-14)**3\n",
    "result = eval(input(\"Enter an expression: \"))\n",
    "print(result)"
   ]
  },
  {
   "cell_type": "code",
   "execution_count": 31,
   "metadata": {},
   "outputs": [
    {
     "data": {
      "text/plain": [
       "438976"
      ]
     },
     "execution_count": 31,
     "metadata": {},
     "output_type": "execute_result"
    }
   ],
   "source": [
    "((23%4)*30-14)**3"
   ]
  },
  {
   "cell_type": "code",
   "execution_count": null,
   "metadata": {},
   "outputs": [],
   "source": []
  }
 ],
 "metadata": {
  "kernelspec": {
   "display_name": "Python 3 (ipykernel)",
   "language": "python",
   "name": "python3"
  },
  "language_info": {
   "codemirror_mode": {
    "name": "ipython",
    "version": 3
   },
   "file_extension": ".py",
   "mimetype": "text/x-python",
   "name": "python",
   "nbconvert_exporter": "python",
   "pygments_lexer": "ipython3",
   "version": "3.9.7"
  }
 },
 "nbformat": 4,
 "nbformat_minor": 4
}
